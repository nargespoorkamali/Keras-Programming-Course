{
 "cells": [
  {
   "cell_type": "code",
   "execution_count": 1,
   "metadata": {},
   "outputs": [
    {
     "name": "stderr",
     "output_type": "stream",
     "text": [
      "Using TensorFlow backend.\n"
     ]
    }
   ],
   "source": [
    "# import the required packages\n",
    "from keras.models import Sequential\n",
    "from keras.layers import Dense\n",
    "from keras.wrappers.scikit_learn import KerasClassifier\n",
    "from sklearn.model_selection import StratifiedKFold\n",
    "from sklearn.model_selection import cross_val_score\n",
    "from sklearn.preprocessing import StandardScaler\n",
    "import numpy as np\n",
    "import pandas as pd\n",
    "from tensorflow import random"
   ]
  },
  {
   "cell_type": "code",
   "execution_count": 2,
   "metadata": {},
   "outputs": [],
   "source": [
    "# Load the dataset\n",
    "X = pd.read_csv('../data/HCV_feats.csv')\n",
    "y = pd.read_csv('../data/HCV_target.csv')\n",
    "\n",
    "sc = StandardScaler()\n",
    "X = pd.DataFrame(sc.fit_transform(X), columns=X.columns)"
   ]
  },
  {
   "cell_type": "code",
   "execution_count": 3,
   "metadata": {},
   "outputs": [],
   "source": [
    "# Create the function that returns the keras model 1\n",
    "def build_model_1(activation='relu', optimizer='adam'):\n",
    "    # create model 1\n",
    "    model = Sequential()\n",
    "    model.add(Dense(4, input_dim=X.shape[1], activation=activation))\n",
    "    model.add(Dense(4, activation=activation))\n",
    "    model.add(Dense(4, activation=activation))\n",
    "    model.add(Dense(1, activation='sigmoid'))\n",
    "    # Compile model\n",
    "    model.compile(loss='binary_crossentropy', optimizer=optimizer, metrics=['accuracy'])\n",
    "    return model\n",
    "\n",
    "# Create the function that returns the keras model 2\n",
    "def build_model_2(activation='relu', optimizer='adam'):\n",
    "    # create model 2\n",
    "    model = Sequential()\n",
    "    model.add(Dense(4, input_dim=X.shape[1], activation=activation))\n",
    "    model.add(Dense(2, activation=activation))\n",
    "    model.add(Dense(1, activation='sigmoid'))\n",
    "    # Compile model\n",
    "    model.compile(loss='binary_crossentropy', optimizer=optimizer, metrics=['accuracy'])\n",
    "    return model\n",
    "\n",
    "# Create the function that returns the keras model 3\n",
    "def build_model_3(activation='relu', optimizer='adam'):\n",
    "    # create model 3\n",
    "    model = Sequential()\n",
    "    model.add(Dense(8, input_dim=X.shape[1], activation=activation))\n",
    "    model.add(Dense(8, activation=activation))\n",
    "    model.add(Dense(1, activation='sigmoid'))\n",
    "    # Compile model\n",
    "    model.compile(loss='binary_crossentropy', optimizer=optimizer, metrics=['accuracy'])\n",
    "    return model"
   ]
  },
  {
   "cell_type": "code",
   "execution_count": 4,
   "metadata": {},
   "outputs": [],
   "source": [
    "# define a seed for random number generator so the result will be reproducible\n",
    "seed = 2\n",
    "np.random.seed(seed)\n",
    "random.set_seed(seed)\n",
    "\n",
    "# determine the number of folds for k-fold cross validation, number of epochs and batch size\n",
    "n_folds = 5\n",
    "batch_size=20\n",
    "epochs=50\n",
    "# define the list to store cross validation scores\n",
    "results_1 =[]\n",
    "# define the possible options for the model\n",
    "models = [build_model_1, build_model_2, build_model_3]\n",
    "# loop over models\n",
    "for m in range(len(models)):\n",
    "    # build the Scikit-Learn interface for the keras model\n",
    "    classifier = KerasClassifier(build_fn=models[m], epochs=epochs, batch_size=batch_size, verbose=0, shuffle=False)\n",
    "    # define the cross validation iterator\n",
    "    kfold = StratifiedKFold(n_splits=n_folds, shuffle=True, random_state=seed)\n",
    "    # perform the k-fold cross validation and store the scores in result\n",
    "    result = cross_val_score(classifier, X, y, cv=kfold)\n",
    "    # add the scores to the results list \n",
    "    results_1.append(result)"
   ]
  },
  {
   "cell_type": "code",
   "execution_count": 5,
   "metadata": {},
   "outputs": [
    {
     "name": "stdout",
     "output_type": "stream",
     "text": [
      "Model 1 Test Accuracy = 0.5046931445598603\n",
      "Model 2 Test Accuracy = 0.5054151535034179\n",
      "Model 3 Test Accuracy = 0.507581228017807\n"
     ]
    }
   ],
   "source": [
    "# Print cross validation score for each model\n",
    "for m in range(len(models)):\n",
    "    print(\"Model\", m+1,\"Test Accuracy =\", results_1[m].mean())"
   ]
  },
  {
   "cell_type": "code",
   "execution_count": 6,
   "metadata": {},
   "outputs": [],
   "source": [
    "# define a seed for random number generator so the result will be reproducible\n",
    "np.random.seed(seed)\n",
    "random.set_seed(seed)\n",
    "# determine the number of folds for k-fold cross validation\n",
    "n_folds = 5\n",
    "# define possible options for epochs and batch_size\n",
    "epochs = [100, 200]\n",
    "batches = [10, 20]\n",
    "# define the list to store cross validation scores\n",
    "results_2 =[]\n",
    "# loop over all possible pairs of epochs, batch_size\n",
    "for e in range(len(epochs)):\n",
    "    for b in range(len(batches)):\n",
    "        # build the Scikit-Learn interface for the keras model\n",
    "        classifier = KerasClassifier(build_fn=build_model_2, epochs=epochs[e], batch_size=batches[b], verbose=0, shuffle=False)\n",
    "        # define the cross validation iterator\n",
    "        kfold = StratifiedKFold(n_splits=n_folds, shuffle=True, random_state=seed)\n",
    "        # perform the k-fold cross validation. \n",
    "        # store the scores in result\n",
    "        result = cross_val_score(classifier, X, y, cv=kfold)\n",
    "        # add the scores to the results list \n",
    "        results_2.append(result)"
   ]
  },
  {
   "cell_type": "code",
   "execution_count": 7,
   "metadata": {},
   "outputs": [
    {
     "name": "stdout",
     "output_type": "stream",
     "text": [
      "batch_size = 10 , epochs = 100 , Test Accuracy = 0.5371841073036194\n",
      "batch_size = 20 , epochs = 100 , Test Accuracy = 0.5025270760059357\n",
      "batch_size = 10 , epochs = 200 , Test Accuracy = 0.49386281371116636\n",
      "batch_size = 20 , epochs = 200 , Test Accuracy = 0.49891695380210876\n"
     ]
    }
   ],
   "source": [
    "# Print cross validation score for each possible pair of epochs, batch_size\n",
    "c = 0\n",
    "for e in range(len(epochs)):\n",
    "    for b in range(len(batches)):\n",
    "        print(\"batch_size =\", batches[b],\", epochs =\", epochs[e], \", Test Accuracy =\", results_2[c].mean())\n",
    "        c += 1"
   ]
  },
  {
   "cell_type": "code",
   "execution_count": 8,
   "metadata": {},
   "outputs": [],
   "source": [
    "# define a seed for random number generator so the result will be reproducible\n",
    "np.random.seed(seed)\n",
    "random.set_seed(seed)\n",
    "# determine the number of folds for k-fold cross validation, number of epochs and batch size\n",
    "n_folds = 5\n",
    "batch_size=20\n",
    "epochs=100\n",
    "# define the list to store cross validation scores\n",
    "results_3 =[]\n",
    "# define possible options for optimizer and activation\n",
    "optimizers = ['rmsprop', 'adam','sgd']\n",
    "activations = ['relu', 'tanh']\n",
    "# loop over all possible pairs of optimizer, activation\n",
    "for o in range(len(optimizers)):\n",
    "    for a in range(len(activations)):\n",
    "        optimizer = optimizers[o]\n",
    "        activation = activations[a]\n",
    "        # build the Scikit-Learn interface for the keras model\n",
    "        classifier = KerasClassifier(build_fn=build_model_2, epochs=epochs, batch_size=batch_size, verbose=0, shuffle=False)\n",
    "        # define the cross validation iterator\n",
    "        kfold = StratifiedKFold(n_splits=n_folds, shuffle=True, random_state=seed)\n",
    "        # perform the k-fold cross validation. \n",
    "        # store the scores in result\n",
    "        result = cross_val_score(classifier, X, y, cv=kfold)\n",
    "        # add the scores to the results list \n",
    "        results_3.append(result)"
   ]
  },
  {
   "cell_type": "code",
   "execution_count": 9,
   "metadata": {},
   "outputs": [
    {
     "name": "stdout",
     "output_type": "stream",
     "text": [
      "activation =  relu , optimizer =  rmsprop , Test accuracy =  0.5523465752601624\n",
      "activation =  tanh , optimizer =  rmsprop , Test accuracy =  0.5032491028308869\n",
      "activation =  relu , optimizer =  adam , Test accuracy =  0.5039711177349091\n",
      "activation =  tanh , optimizer =  adam , Test accuracy =  0.5119133591651917\n",
      "activation =  relu , optimizer =  sgd , Test accuracy =  0.5046931326389312\n",
      "activation =  tanh , optimizer =  sgd , Test accuracy =  0.4830324828624725\n"
     ]
    }
   ],
   "source": [
    "# Print cross validation score for each possible pair of optimizer, activation\n",
    "c = 0\n",
    "for o in range(len(optimizers)):\n",
    "    for a in range(len(activations)):\n",
    "        print(\"activation = \", activations[a],\", optimizer = \", optimizers[o], \", Test accuracy = \", results_3[c].mean())\n",
    "        c += 1"
   ]
  }
 ],
 "metadata": {
  "kernelspec": {
   "display_name": "py3.7",
   "language": "python",
   "name": "py3.7"
  },
  "language_info": {
   "codemirror_mode": {
    "name": "ipython",
    "version": 3
   },
   "file_extension": ".py",
   "mimetype": "text/x-python",
   "name": "python",
   "nbconvert_exporter": "python",
   "pygments_lexer": "ipython3",
   "version": "3.7.2"
  }
 },
 "nbformat": 4,
 "nbformat_minor": 2
}
