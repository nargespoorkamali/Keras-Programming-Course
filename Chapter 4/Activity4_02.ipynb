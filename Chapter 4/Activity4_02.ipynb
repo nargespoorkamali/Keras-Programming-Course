{
 "cells": [
  {
   "cell_type": "code",
   "execution_count": 1,
   "metadata": {},
   "outputs": [],
   "source": [
    "# import the required packages\n",
    "from keras.models import Sequential\n",
    "from keras.layers import Dense\n",
    "from keras.wrappers.scikit_learn import KerasClassifier\n",
    "from sklearn.model_selection import StratifiedKFold\n",
    "from sklearn.model_selection import cross_val_score\n",
    "from sklearn.preprocessing import StandardScaler\n",
    "import numpy as np\n",
    "import pandas as pd\n",
    "from tensorflow import random"
   ]
  },
  {
   "cell_type": "code",
   "execution_count": 2,
   "metadata": {},
   "outputs": [],
   "source": [
    "# Load the dataset\n",
    "X = pd.read_csv('../data/HCV_feats.csv')\n",
    "y = pd.read_csv('../data/HCV_target.csv')\n",
    "\n",
    "sc = StandardScaler()\n",
    "X = pd.DataFrame(sc.fit_transform(X), columns=X.columns)"
   ]
  },
  {
   "cell_type": "code",
   "execution_count": 3,
   "metadata": {},
   "outputs": [],
   "source": [
    "# Define three functions, each returning a different Keras model.\n",
    "# Create the function that returns the keras model 1\n",
    "def build_model_1(activation='relu', optimizer='adam'):\n",
    "    # create model 1\n",
    "    # First Keras model has three hidden layers all of size 4 and ReLU activation functions.\n",
    "    # step 2\n",
    "    \n",
    "    # Compile model\n",
    "    model.compile(loss='binary_crossentropy', optimizer=optimizer, metrics=['accuracy'])\n",
    "    return model\n",
    "\n",
    "# Create the function that returns the keras model 2\n",
    "def build_model_2(activation='relu', optimizer='adam'):\n",
    "    # create model 2\n",
    "    # Second Keras model has two hidden layers, the first layer of size 4 and the second later of size 2, and ReLU activation functions\n",
    "    # step 2\n",
    "    \n",
    "    # Compile model\n",
    "    model.compile(loss='binary_crossentropy', optimizer=optimizer, metrics=['accuracy'])\n",
    "    return model\n",
    "\n",
    "# Create the function that returns the keras model 3\n",
    "def build_model_3(activation='relu', optimizer='adam'):\n",
    "    # create model 3\n",
    "    # Third Keras model has two hidden layers, both of size 8, and a ReLU activation function.\n",
    "    # step 2\n",
    "    \n",
    "    # Compile model\n",
    "    model.compile(loss='binary_crossentropy', optimizer=optimizer, metrics=['accuracy'])\n",
    "    return model"
   ]
  },
  {
   "cell_type": "code",
   "execution_count": 4,
   "metadata": {},
   "outputs": [],
   "source": [
    "# define a seed for random number generator so the result will be reproducible\n",
    "seed = 2\n",
    "np.random.seed(seed)\n",
    "random.set_seed(seed)\n",
    "\n",
    "# determine the number of folds for k-fold cross validation, number of epochs and batch size\n",
    "n_folds = 5\n",
    "batch_size=20\n",
    "epochs=50\n",
    "# define the list to store cross validation scores\n",
    "results_1 =[]\n",
    "# define the possible options for the model\n",
    "models = [build_model_1, build_model_2, build_model_3]\n",
    "# loop over models\n",
    "for m in range(len(models)):\n",
    "    # build the Scikit-Learn interface for each keras model (use shuffle=False).\n",
    "    # step 3\n",
    "    classifier = \n",
    "    # define the cross validation iterator\n",
    "    kfold = StratifiedKFold(n_splits=n_folds, shuffle=True, random_state=seed)\n",
    "    # perform the k-fold cross validation and store the scores in result\n",
    "    result = cross_val_score(classifier, X, y, cv=kfold)\n",
    "    # add the scores to the results list \n",
    "    results_1.append(result)"
   ]
  },
  {
   "cell_type": "code",
   "execution_count": 5,
   "metadata": {},
   "outputs": [
    {
     "name": "stdout",
     "output_type": "stream",
     "text": [
      "Model 1 Test Accuracy = 0.49458483457565305\n",
      "Model 2 Test Accuracy = 0.5119133472442627\n",
      "Model 3 Test Accuracy = 0.511191338300705\n"
     ]
    }
   ],
   "source": [
    "# Print cross validation score for each model\n",
    "for m in range(len(models)):\n",
    "    print(\"Model\", m+1,\"Test Accuracy =\", results_1[m].mean())"
   ]
  },
  {
   "cell_type": "code",
   "execution_count": 6,
   "metadata": {},
   "outputs": [],
   "source": [
    "# define a seed for random number generator so the result will be reproducible\n",
    "np.random.seed(seed)\n",
    "random.set_seed(seed)\n",
    "# determine the number of folds for k-fold cross validation\n",
    "n_folds = 5\n",
    "# define possible options for epochs and batch_size\n",
    "epochs = [100, 200]\n",
    "batches = [10, 20]\n",
    "# define the list to store cross validation scores\n",
    "results_2 =[]\n",
    "# loop over all possible pairs of epochs, batch_size\n",
    "for e in range(len(epochs)):\n",
    "    for b in range(len(batches)):\n",
    "        # build the Scikit-Learn interface for the keras model with different values for epochs and batch_size (use shuffle=False)\n",
    "        # step 4\n",
    "        classifier = \n",
    "        # define the cross validation iterator\n",
    "        kfold = StratifiedKFold(n_splits=n_folds, shuffle=True, random_state=seed)\n",
    "        # perform the k-fold cross validation. \n",
    "        # store the scores in result\n",
    "        result = cross_val_score(classifier, X, y, cv=kfold)\n",
    "        # add the scores to the results list \n",
    "        results_2.append(result)"
   ]
  },
  {
   "cell_type": "code",
   "execution_count": 7,
   "metadata": {},
   "outputs": [
    {
     "name": "stdout",
     "output_type": "stream",
     "text": [
      "batch_size = 10 , epochs = 100 , Test Accuracy = 0.5162454783916474\n",
      "batch_size = 20 , epochs = 100 , Test Accuracy = 0.505415165424347\n",
      "batch_size = 10 , epochs = 200 , Test Accuracy = 0.5140794157981873\n",
      "batch_size = 20 , epochs = 200 , Test Accuracy = 0.5046931326389312\n"
     ]
    }
   ],
   "source": [
    "# Print cross validation score for each possible pair of epochs, batch_size\n",
    "c = 0\n",
    "for e in range(len(epochs)):\n",
    "    for b in range(len(batches)):\n",
    "        print(\"batch_size =\", batches[b],\", epochs =\", epochs[e], \", Test Accuracy =\", results_2[c].mean())\n",
    "        c += 1"
   ]
  },
  {
   "cell_type": "code",
   "execution_count": 8,
   "metadata": {},
   "outputs": [],
   "source": [
    "# define a seed for random number generator so the result will be reproducible\n",
    "np.random.seed(seed)\n",
    "random.set_seed(seed)\n",
    "# determine the number of folds for k-fold cross validation, number of epochs and batch size\n",
    "n_folds = 5\n",
    "batch_size=20\n",
    "epochs=100\n",
    "# define the list to store cross validation scores\n",
    "results_3 =[]\n",
    "# define possible options for optimizer and activation (optimizers: 'rmsprop', 'adam','sgd' and activations: 'relu', 'tanh')\n",
    "# step 5\n",
    "optimizers = \n",
    "activations = \n",
    "# loop over all possible pairs of optimizer, activation\n",
    "for o in range(len(optimizers)):\n",
    "    for a in range(len(activations)):\n",
    "        optimizer = optimizers[o]\n",
    "        activation = activations[a]\n",
    "        # build the Scikit-Learn interface for the keras model\n",
    "        classifier = KerasClassifier(build_fn=build_model_2, epochs=epochs, batch_size=batch_size, verbose=0, shuffle=False)\n",
    "        # define the cross validation iterator\n",
    "        kfold = StratifiedKFold(n_splits=n_folds, shuffle=True, random_state=seed)\n",
    "        # perform the k-fold cross validation. \n",
    "        # store the scores in result\n",
    "        result = cross_val_score(classifier, X, y, cv=kfold)\n",
    "        # add the scores to the results list \n",
    "        results_3.append(result)"
   ]
  },
  {
   "cell_type": "code",
   "execution_count": 9,
   "metadata": {},
   "outputs": [
    {
     "name": "stdout",
     "output_type": "stream",
     "text": [
      "activation =  relu , optimizer =  rmsprop , Test accuracy =  0.5032490909099578\n",
      "activation =  tanh , optimizer =  rmsprop , Test accuracy =  0.505415165424347\n",
      "activation =  relu , optimizer =  adam , Test accuracy =  0.5104692995548248\n",
      "activation =  tanh , optimizer =  adam , Test accuracy =  0.5039711117744445\n",
      "activation =  relu , optimizer =  sgd , Test accuracy =  0.4996389925479889\n",
      "activation =  tanh , optimizer =  sgd , Test accuracy =  0.507581228017807\n"
     ]
    }
   ],
   "source": [
    "# Print cross validation score for each possible pair of optimizer, activation\n",
    "c = 0\n",
    "for o in range(len(optimizers)):\n",
    "    for a in range(len(activations)):\n",
    "        print(\"activation = \", activations[a],\", optimizer = \", optimizers[o], \", Test accuracy = \", results_3[c].mean())\n",
    "        c += 1"
   ]
  },
  {
   "cell_type": "code",
   "execution_count": null,
   "metadata": {},
   "outputs": [],
   "source": []
  }
 ],
 "metadata": {
  "kernelspec": {
   "display_name": "Python 3",
   "language": "python",
   "name": "python3"
  },
  "language_info": {
   "codemirror_mode": {
    "name": "ipython",
    "version": 3
   },
   "file_extension": ".py",
   "mimetype": "text/x-python",
   "name": "python",
   "nbconvert_exporter": "python",
   "pygments_lexer": "ipython3",
   "version": "3.8.0"
  }
 },
 "nbformat": 4,
 "nbformat_minor": 2
}
