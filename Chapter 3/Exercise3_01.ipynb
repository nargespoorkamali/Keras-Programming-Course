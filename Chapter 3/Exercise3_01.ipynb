{
 "cells": [
  {
   "cell_type": "markdown",
   "metadata": {},
   "source": [
    "# Exercise 3.01"
   ]
  },
  {
   "cell_type": "code",
   "execution_count": 1,
   "metadata": {},
   "outputs": [
    {
     "name": "stdout",
     "output_type": "stream",
     "text": [
      "Number of Examples in the Dataset =  10000\n",
      "Number of Features for each example =  10\n",
      "Possible Output Classes =  [0 1]\n"
     ]
    }
   ],
   "source": [
    "# load classification data\n",
    "import numpy as np\n",
    "import pandas as pd\n",
    "X = pd.read_csv('../data/tree_class_feats.csv')\n",
    "y = pd.read_csv('../data/tree_class_target.csv')\n",
    "\n",
    "# Print the sizes of the dataset\n",
    "print(\"Number of Examples in the Dataset = \", X.shape[0])\n",
    "print(\"Number of Features for each example = \", X.shape[1]) \n",
    "print(\"Possible Output Classes = \", np.unique(y))"
   ]
  },
  {
   "cell_type": "code",
   "execution_count": 2,
   "metadata": {},
   "outputs": [],
   "source": [
    "# Define your model as a Keras sequential model \n",
    "from keras.models import Sequential\n",
    "from tensorflow import random\n",
    "random.set_seed(42)\n",
    "np.random.seed(42)\n",
    "model = Sequential()\n",
    "# model = keras.models.Sequential()"
   ]
  },
  {
   "cell_type": "code",
   "execution_count": 3,
   "metadata": {},
   "outputs": [],
   "source": [
    "# Add one hidden layer of size 10 with activation function of type tanh to your model\n",
    "from keras.layers import Dense, Activation\n",
    "model.add(Dense(10, activation='tanh', input_dim=X.shape[1]))\n",
    "# model.add(keras.layers.Dense(10, activation='tanh', input_dim=X.shape[1]))"
   ]
  },
  {
   "cell_type": "code",
   "execution_count": 4,
   "metadata": {},
   "outputs": [],
   "source": [
    "# Add another hidden layer, this time of size 5, with activation function of type tanh \n",
    "model.add(Dense(5, activation='tanh'))"
   ]
  },
  {
   "cell_type": "code",
   "execution_count": 5,
   "metadata": {},
   "outputs": [],
   "source": [
    "# Add the output layer with sigmoid activation function\n",
    "model.add(Dense(1, activation='sigmoid'))"
   ]
  },
  {
   "cell_type": "code",
   "execution_count": 6,
   "metadata": {},
   "outputs": [
    {
     "name": "stdout",
     "output_type": "stream",
     "text": [
      "Model: \"sequential\"\n",
      "_________________________________________________________________\n",
      "Layer (type)                 Output Shape              Param #   \n",
      "=================================================================\n",
      "dense (Dense)                (None, 10)                110       \n",
      "_________________________________________________________________\n",
      "dense_1 (Dense)              (None, 5)                 55        \n",
      "_________________________________________________________________\n",
      "dense_2 (Dense)              (None, 1)                 6         \n",
      "=================================================================\n",
      "Total params: 171\n",
      "Trainable params: 171\n",
      "Non-trainable params: 0\n",
      "_________________________________________________________________\n"
     ]
    }
   ],
   "source": [
    "# Choose the loss function to be binary cross entropy and the optimizer to be SGD for training the model\n",
    "model.compile(optimizer='sgd', loss='binary_crossentropy', metrics=['accuracy'])\n",
    "model.summary()"
   ]
  },
  {
   "cell_type": "code",
   "execution_count": 7,
   "metadata": {},
   "outputs": [
    {
     "name": "stdout",
     "output_type": "stream",
     "text": [
      "Epoch 1/100\n",
      "1600/1600 [==============================] - 2s 1ms/step - loss: 0.3868 - accuracy: 0.8152 - val_loss: 0.3277 - val_accuracy: 0.8540\n",
      "Epoch 2/100\n",
      "1600/1600 [==============================] - 2s 1ms/step - loss: 0.3264 - accuracy: 0.8478 - val_loss: 0.3018 - val_accuracy: 0.8690\n",
      "Epoch 3/100\n",
      "1600/1600 [==============================] - 2s 1ms/step - loss: 0.2983 - accuracy: 0.8671 - val_loss: 0.2760 - val_accuracy: 0.8820\n",
      "Epoch 4/100\n",
      "1600/1600 [==============================] - 2s 1ms/step - loss: 0.2717 - accuracy: 0.8849 - val_loss: 0.2523 - val_accuracy: 0.8915\n",
      "Epoch 5/100\n",
      "1600/1600 [==============================] - 2s 1ms/step - loss: 0.2505 - accuracy: 0.8957 - val_loss: 0.2327 - val_accuracy: 0.9000\n",
      "Epoch 6/100\n",
      "1600/1600 [==============================] - 2s 1ms/step - loss: 0.2351 - accuracy: 0.9034 - val_loss: 0.2190 - val_accuracy: 0.9010\n",
      "Epoch 7/100\n",
      "1600/1600 [==============================] - 2s 1ms/step - loss: 0.2241 - accuracy: 0.9090 - val_loss: 0.2093 - val_accuracy: 0.9055\n",
      "Epoch 8/100\n",
      "1600/1600 [==============================] - 2s 1ms/step - loss: 0.2163 - accuracy: 0.9136 - val_loss: 0.2024 - val_accuracy: 0.9080\n",
      "Epoch 9/100\n",
      "1600/1600 [==============================] - 2s 1ms/step - loss: 0.2102 - accuracy: 0.9172 - val_loss: 0.1973 - val_accuracy: 0.9160\n",
      "Epoch 10/100\n",
      "1600/1600 [==============================] - 2s 1ms/step - loss: 0.2046 - accuracy: 0.9219 - val_loss: 0.1932 - val_accuracy: 0.9220\n",
      "Epoch 11/100\n",
      "1600/1600 [==============================] - 2s 1ms/step - loss: 0.1989 - accuracy: 0.9250 - val_loss: 0.1896 - val_accuracy: 0.9205\n",
      "Epoch 12/100\n",
      "1600/1600 [==============================] - 3s 2ms/step - loss: 0.1942 - accuracy: 0.9268 - val_loss: 0.1863 - val_accuracy: 0.9220\n",
      "Epoch 13/100\n",
      "1600/1600 [==============================] - 3s 2ms/step - loss: 0.1908 - accuracy: 0.9287 - val_loss: 0.1835 - val_accuracy: 0.9235\n",
      "Epoch 14/100\n",
      "1600/1600 [==============================] - 2s 1ms/step - loss: 0.1879 - accuracy: 0.9295 - val_loss: 0.1812 - val_accuracy: 0.9250\n",
      "Epoch 15/100\n",
      "1600/1600 [==============================] - 2s 1ms/step - loss: 0.1855 - accuracy: 0.9304 - val_loss: 0.1795 - val_accuracy: 0.9260\n",
      "Epoch 16/100\n",
      "1600/1600 [==============================] - 2s 1ms/step - loss: 0.1833 - accuracy: 0.9302 - val_loss: 0.1780 - val_accuracy: 0.9265\n",
      "Epoch 17/100\n",
      "1600/1600 [==============================] - 2s 1ms/step - loss: 0.1813 - accuracy: 0.9310 - val_loss: 0.1767 - val_accuracy: 0.9255\n",
      "Epoch 18/100\n",
      "1600/1600 [==============================] - 2s 1ms/step - loss: 0.1794 - accuracy: 0.9310 - val_loss: 0.1755 - val_accuracy: 0.9250\n",
      "Epoch 19/100\n",
      "1600/1600 [==============================] - 2s 1ms/step - loss: 0.1777 - accuracy: 0.9319 - val_loss: 0.1745 - val_accuracy: 0.9250\n",
      "Epoch 20/100\n",
      "1600/1600 [==============================] - 2s 1ms/step - loss: 0.1760 - accuracy: 0.9324 - val_loss: 0.1734 - val_accuracy: 0.9265\n",
      "Epoch 21/100\n",
      "1600/1600 [==============================] - 2s 1ms/step - loss: 0.1745 - accuracy: 0.9326 - val_loss: 0.1723 - val_accuracy: 0.9275\n",
      "Epoch 22/100\n",
      "1600/1600 [==============================] - 2s 1ms/step - loss: 0.1730 - accuracy: 0.9334 - val_loss: 0.1712 - val_accuracy: 0.9285\n",
      "Epoch 23/100\n",
      "1600/1600 [==============================] - 2s 1ms/step - loss: 0.1716 - accuracy: 0.9339 - val_loss: 0.1701 - val_accuracy: 0.9300\n",
      "Epoch 24/100\n",
      "1600/1600 [==============================] - 2s 1ms/step - loss: 0.1704 - accuracy: 0.9345 - val_loss: 0.1689 - val_accuracy: 0.9300\n",
      "Epoch 25/100\n",
      "1600/1600 [==============================] - 2s 1ms/step - loss: 0.1692 - accuracy: 0.9354 - val_loss: 0.1678 - val_accuracy: 0.9310\n",
      "Epoch 26/100\n",
      "1600/1600 [==============================] - 2s 1ms/step - loss: 0.1681 - accuracy: 0.9367 - val_loss: 0.1666 - val_accuracy: 0.9310\n",
      "Epoch 27/100\n",
      "1600/1600 [==============================] - 2s 1ms/step - loss: 0.1670 - accuracy: 0.9369 - val_loss: 0.1655 - val_accuracy: 0.9315\n",
      "Epoch 28/100\n",
      "1600/1600 [==============================] - 2s 1ms/step - loss: 0.1659 - accuracy: 0.9371 - val_loss: 0.1642 - val_accuracy: 0.9340\n",
      "Epoch 29/100\n",
      "1600/1600 [==============================] - 2s 1ms/step - loss: 0.1645 - accuracy: 0.9377 - val_loss: 0.1631 - val_accuracy: 0.9355\n",
      "Epoch 30/100\n",
      "1600/1600 [==============================] - 2s 1ms/step - loss: 0.1632 - accuracy: 0.9377 - val_loss: 0.1621 - val_accuracy: 0.9360\n",
      "Epoch 31/100\n",
      "1600/1600 [==============================] - 2s 1ms/step - loss: 0.1620 - accuracy: 0.9385 - val_loss: 0.1613 - val_accuracy: 0.9355\n",
      "Epoch 32/100\n",
      "1600/1600 [==============================] - 2s 1ms/step - loss: 0.1610 - accuracy: 0.9389 - val_loss: 0.1606 - val_accuracy: 0.9360\n",
      "Epoch 33/100\n",
      "1600/1600 [==============================] - 2s 1ms/step - loss: 0.1601 - accuracy: 0.9391 - val_loss: 0.1599 - val_accuracy: 0.9355\n",
      "Epoch 34/100\n",
      "1600/1600 [==============================] - 2s 1ms/step - loss: 0.1594 - accuracy: 0.9391 - val_loss: 0.1594 - val_accuracy: 0.9360\n",
      "Epoch 35/100\n",
      "1600/1600 [==============================] - 2s 1ms/step - loss: 0.1587 - accuracy: 0.9394 - val_loss: 0.1590 - val_accuracy: 0.9360\n",
      "Epoch 36/100\n",
      "1600/1600 [==============================] - 2s 1ms/step - loss: 0.1582 - accuracy: 0.9399 - val_loss: 0.1587 - val_accuracy: 0.9345\n",
      "Epoch 37/100\n",
      "1600/1600 [==============================] - 2s 1ms/step - loss: 0.1577 - accuracy: 0.9401 - val_loss: 0.1584 - val_accuracy: 0.9360\n",
      "Epoch 38/100\n",
      "1600/1600 [==============================] - 2s 1ms/step - loss: 0.1573 - accuracy: 0.9402 - val_loss: 0.1581 - val_accuracy: 0.9360\n",
      "Epoch 39/100\n",
      "1600/1600 [==============================] - 2s 1ms/step - loss: 0.1570 - accuracy: 0.9408 - val_loss: 0.1579 - val_accuracy: 0.9365\n",
      "Epoch 40/100\n",
      "1600/1600 [==============================] - 2s 1ms/step - loss: 0.1566 - accuracy: 0.9404 - val_loss: 0.1577 - val_accuracy: 0.9370\n",
      "Epoch 41/100\n",
      "1600/1600 [==============================] - 2s 1ms/step - loss: 0.1563 - accuracy: 0.9400 - val_loss: 0.1576 - val_accuracy: 0.9365\n",
      "Epoch 42/100\n",
      "1600/1600 [==============================] - 2s 1ms/step - loss: 0.1561 - accuracy: 0.9400 - val_loss: 0.1574 - val_accuracy: 0.9375\n",
      "Epoch 43/100\n",
      "1600/1600 [==============================] - 2s 1ms/step - loss: 0.1558 - accuracy: 0.9401 - val_loss: 0.1573 - val_accuracy: 0.9390\n",
      "Epoch 44/100\n",
      "1600/1600 [==============================] - 2s 1ms/step - loss: 0.1556 - accuracy: 0.9402 - val_loss: 0.1572 - val_accuracy: 0.9385\n",
      "Epoch 45/100\n",
      "1600/1600 [==============================] - 2s 1ms/step - loss: 0.1554 - accuracy: 0.9404 - val_loss: 0.1571 - val_accuracy: 0.9395\n",
      "Epoch 46/100\n",
      "1600/1600 [==============================] - 2s 1ms/step - loss: 0.1552 - accuracy: 0.9406 - val_loss: 0.1570 - val_accuracy: 0.9395\n",
      "Epoch 47/100\n",
      "1600/1600 [==============================] - 2s 1ms/step - loss: 0.1550 - accuracy: 0.9408 - val_loss: 0.1569 - val_accuracy: 0.9395\n",
      "Epoch 48/100\n",
      "1600/1600 [==============================] - 2s 1ms/step - loss: 0.1548 - accuracy: 0.9409 - val_loss: 0.1568 - val_accuracy: 0.9405\n",
      "Epoch 49/100\n",
      "1600/1600 [==============================] - 2s 1ms/step - loss: 0.1546 - accuracy: 0.9406 - val_loss: 0.1567 - val_accuracy: 0.9410\n",
      "Epoch 50/100\n",
      "1600/1600 [==============================] - 2s 1ms/step - loss: 0.1544 - accuracy: 0.9409 - val_loss: 0.1566 - val_accuracy: 0.9400\n",
      "Epoch 51/100\n",
      "1600/1600 [==============================] - 2s 1ms/step - loss: 0.1543 - accuracy: 0.9408 - val_loss: 0.1565 - val_accuracy: 0.9395\n",
      "Epoch 52/100\n",
      "1600/1600 [==============================] - 2s 1ms/step - loss: 0.1541 - accuracy: 0.9399 - val_loss: 0.1564 - val_accuracy: 0.9395\n",
      "Epoch 53/100\n",
      "1600/1600 [==============================] - 2s 1ms/step - loss: 0.1539 - accuracy: 0.9404 - val_loss: 0.1564 - val_accuracy: 0.9390\n",
      "Epoch 54/100\n",
      "1600/1600 [==============================] - 2s 1ms/step - loss: 0.1537 - accuracy: 0.9402 - val_loss: 0.1563 - val_accuracy: 0.9390\n",
      "Epoch 55/100\n",
      "1600/1600 [==============================] - 2s 1ms/step - loss: 0.1536 - accuracy: 0.9402 - val_loss: 0.1562 - val_accuracy: 0.9380\n",
      "Epoch 56/100\n",
      "1600/1600 [==============================] - 2s 1ms/step - loss: 0.1534 - accuracy: 0.9405 - val_loss: 0.1561 - val_accuracy: 0.9380\n",
      "Epoch 57/100\n"
     ]
    },
    {
     "name": "stdout",
     "output_type": "stream",
     "text": [
      "1600/1600 [==============================] - 2s 1ms/step - loss: 0.1532 - accuracy: 0.9409 - val_loss: 0.1560 - val_accuracy: 0.9380\n",
      "Epoch 58/100\n",
      "1600/1600 [==============================] - 2s 986us/step - loss: 0.1531 - accuracy: 0.9408 - val_loss: 0.1559 - val_accuracy: 0.9380\n",
      "Epoch 59/100\n",
      "1600/1600 [==============================] - 2s 1ms/step - loss: 0.1529 - accuracy: 0.9411 - val_loss: 0.1558 - val_accuracy: 0.9385\n",
      "Epoch 60/100\n",
      "1600/1600 [==============================] - 2s 1ms/step - loss: 0.1528 - accuracy: 0.9411 - val_loss: 0.1557 - val_accuracy: 0.9390\n",
      "Epoch 61/100\n",
      "1600/1600 [==============================] - 2s 1ms/step - loss: 0.1526 - accuracy: 0.9411 - val_loss: 0.1556 - val_accuracy: 0.9395\n",
      "Epoch 62/100\n",
      "1600/1600 [==============================] - 2s 1ms/step - loss: 0.1524 - accuracy: 0.9416 - val_loss: 0.1554 - val_accuracy: 0.9400\n",
      "Epoch 63/100\n",
      "1600/1600 [==============================] - 2s 1ms/step - loss: 0.1523 - accuracy: 0.9411 - val_loss: 0.1553 - val_accuracy: 0.9395\n",
      "Epoch 64/100\n",
      "1600/1600 [==============================] - 2s 992us/step - loss: 0.1521 - accuracy: 0.9411 - val_loss: 0.1552 - val_accuracy: 0.9400\n",
      "Epoch 65/100\n",
      "1600/1600 [==============================] - 2s 1ms/step - loss: 0.1520 - accuracy: 0.9410 - val_loss: 0.1551 - val_accuracy: 0.9395\n",
      "Epoch 66/100\n",
      "1600/1600 [==============================] - 2s 1ms/step - loss: 0.1518 - accuracy: 0.9410 - val_loss: 0.1550 - val_accuracy: 0.9405\n",
      "Epoch 67/100\n",
      "1600/1600 [==============================] - 2s 1ms/step - loss: 0.1516 - accuracy: 0.9414 - val_loss: 0.1549 - val_accuracy: 0.9400\n",
      "Epoch 68/100\n",
      "1600/1600 [==============================] - 2s 1ms/step - loss: 0.1515 - accuracy: 0.9420 - val_loss: 0.1548 - val_accuracy: 0.9405\n",
      "Epoch 69/100\n",
      "1600/1600 [==============================] - 2s 1ms/step - loss: 0.1513 - accuracy: 0.9419 - val_loss: 0.1547 - val_accuracy: 0.9405\n",
      "Epoch 70/100\n",
      "1600/1600 [==============================] - 2s 1ms/step - loss: 0.1511 - accuracy: 0.9417 - val_loss: 0.1546 - val_accuracy: 0.9400\n",
      "Epoch 71/100\n",
      "1600/1600 [==============================] - 2s 1ms/step - loss: 0.1510 - accuracy: 0.9417 - val_loss: 0.1545 - val_accuracy: 0.9410\n",
      "Epoch 72/100\n",
      "1600/1600 [==============================] - 2s 1ms/step - loss: 0.1508 - accuracy: 0.9419 - val_loss: 0.1544 - val_accuracy: 0.9405\n",
      "Epoch 73/100\n",
      "1600/1600 [==============================] - 2s 1ms/step - loss: 0.1506 - accuracy: 0.9423 - val_loss: 0.1543 - val_accuracy: 0.9400\n",
      "Epoch 74/100\n",
      "1600/1600 [==============================] - 2s 1ms/step - loss: 0.1504 - accuracy: 0.9427 - val_loss: 0.1542 - val_accuracy: 0.9400\n",
      "Epoch 75/100\n",
      "1600/1600 [==============================] - 2s 1ms/step - loss: 0.1502 - accuracy: 0.9426 - val_loss: 0.1542 - val_accuracy: 0.9400\n",
      "Epoch 76/100\n",
      "1600/1600 [==============================] - 2s 1ms/step - loss: 0.1500 - accuracy: 0.9427 - val_loss: 0.1541 - val_accuracy: 0.9405\n",
      "Epoch 77/100\n",
      "1600/1600 [==============================] - 2s 1ms/step - loss: 0.1499 - accuracy: 0.9430 - val_loss: 0.1541 - val_accuracy: 0.9415\n",
      "Epoch 78/100\n",
      "1600/1600 [==============================] - 2s 1ms/step - loss: 0.1497 - accuracy: 0.9434 - val_loss: 0.1540 - val_accuracy: 0.9410\n",
      "Epoch 79/100\n",
      "1600/1600 [==============================] - 2s 1ms/step - loss: 0.1496 - accuracy: 0.9436 - val_loss: 0.1540 - val_accuracy: 0.9410\n",
      "Epoch 80/100\n",
      "1600/1600 [==============================] - 2s 1ms/step - loss: 0.1494 - accuracy: 0.9436 - val_loss: 0.1539 - val_accuracy: 0.9420\n",
      "Epoch 81/100\n",
      "1600/1600 [==============================] - 2s 1ms/step - loss: 0.1493 - accuracy: 0.9438 - val_loss: 0.1538 - val_accuracy: 0.9425\n",
      "Epoch 82/100\n",
      "1600/1600 [==============================] - 2s 1ms/step - loss: 0.1491 - accuracy: 0.9440 - val_loss: 0.1538 - val_accuracy: 0.9430\n",
      "Epoch 83/100\n",
      "1600/1600 [==============================] - 2s 1ms/step - loss: 0.1490 - accuracy: 0.9440 - val_loss: 0.1537 - val_accuracy: 0.9435\n",
      "Epoch 84/100\n",
      "1600/1600 [==============================] - 2s 1ms/step - loss: 0.1489 - accuracy: 0.9439 - val_loss: 0.1536 - val_accuracy: 0.9430\n",
      "Epoch 85/100\n",
      "1600/1600 [==============================] - 2s 1ms/step - loss: 0.1487 - accuracy: 0.9441 - val_loss: 0.1535 - val_accuracy: 0.9430\n",
      "Epoch 86/100\n",
      "1600/1600 [==============================] - 2s 1ms/step - loss: 0.1486 - accuracy: 0.9442 - val_loss: 0.1533 - val_accuracy: 0.9430\n",
      "Epoch 87/100\n",
      "1600/1600 [==============================] - 2s 1ms/step - loss: 0.1485 - accuracy: 0.9445 - val_loss: 0.1532 - val_accuracy: 0.9435\n",
      "Epoch 88/100\n",
      "1600/1600 [==============================] - 2s 1ms/step - loss: 0.1483 - accuracy: 0.9442 - val_loss: 0.1530 - val_accuracy: 0.9435\n",
      "Epoch 89/100\n",
      "1600/1600 [==============================] - 2s 1ms/step - loss: 0.1482 - accuracy: 0.9444 - val_loss: 0.1528 - val_accuracy: 0.9435\n",
      "Epoch 90/100\n",
      "1600/1600 [==============================] - 2s 1ms/step - loss: 0.1481 - accuracy: 0.9445 - val_loss: 0.1526 - val_accuracy: 0.9415\n",
      "Epoch 91/100\n",
      "1600/1600 [==============================] - 2s 1ms/step - loss: 0.1479 - accuracy: 0.9448 - val_loss: 0.1524 - val_accuracy: 0.9415\n",
      "Epoch 92/100\n",
      "1600/1600 [==============================] - 2s 1ms/step - loss: 0.1478 - accuracy: 0.9448 - val_loss: 0.1522 - val_accuracy: 0.9420\n",
      "Epoch 93/100\n",
      "1600/1600 [==============================] - 2s 1ms/step - loss: 0.1476 - accuracy: 0.9446 - val_loss: 0.1520 - val_accuracy: 0.9425\n",
      "Epoch 94/100\n",
      "1600/1600 [==============================] - 2s 1ms/step - loss: 0.1475 - accuracy: 0.9446 - val_loss: 0.1519 - val_accuracy: 0.9425\n",
      "Epoch 95/100\n",
      "1600/1600 [==============================] - 2s 1ms/step - loss: 0.1473 - accuracy: 0.9444 - val_loss: 0.1517 - val_accuracy: 0.9410\n",
      "Epoch 96/100\n",
      "1600/1600 [==============================] - 2s 994us/step - loss: 0.1471 - accuracy: 0.9445 - val_loss: 0.1516 - val_accuracy: 0.9405\n",
      "Epoch 97/100\n",
      "1600/1600 [==============================] - 2s 988us/step - loss: 0.1470 - accuracy: 0.9445 - val_loss: 0.1514 - val_accuracy: 0.9410\n",
      "Epoch 98/100\n",
      "1600/1600 [==============================] - 2s 1ms/step - loss: 0.1468 - accuracy: 0.9449 - val_loss: 0.1513 - val_accuracy: 0.9405\n",
      "Epoch 99/100\n",
      "1600/1600 [==============================] - 2s 1ms/step - loss: 0.1466 - accuracy: 0.9452 - val_loss: 0.1511 - val_accuracy: 0.9400\n",
      "Epoch 100/100\n",
      "1600/1600 [==============================] - 2s 1ms/step - loss: 0.1464 - accuracy: 0.9455 - val_loss: 0.1510 - val_accuracy: 0.9405\n"
     ]
    }
   ],
   "source": [
    "# Train your model for 100 epochs and batch size equal to 5\n",
    "history = model.fit(X, y, epochs=100, batch_size=5, verbose=1, validation_split=0.2, shuffle=False)"
   ]
  },
  {
   "cell_type": "code",
   "execution_count": 8,
   "metadata": {
    "scrolled": true
   },
   "outputs": [
    {
     "data": {
      "image/png": "[encoded data removed]",
      "text/plain": [
       "<Figure size 432x288 with 1 Axes>"
      ]
     },
     "metadata": {
      "needs_background": "light"
     },
     "output_type": "display_data"
    },
    {
     "data": {
      "image/png": "[encoded data removed]",
      "text/plain": [
       "<Figure size 432x288 with 1 Axes>"
      ]
     },
     "metadata": {
      "needs_background": "light"
     },
     "output_type": "display_data"
    }
   ],
   "source": [
    "import matplotlib.pyplot as plt\n",
    "%matplotlib inline\n",
    "\n",
    "# Plot training & validation accuracy values\n",
    "plt.plot(history.history['accuracy'])\n",
    "plt.plot(history.history['val_accuracy'])\n",
    "plt.title('Model accuracy')\n",
    "plt.ylabel('Accuracy')\n",
    "plt.xlabel('Epoch')\n",
    "plt.legend(['Train', 'Validation'], loc='upper left')\n",
    "plt.show()\n",
    "\n",
    "# Plot training & validation loss values\n",
    "plt.plot(history.history['loss'])\n",
    "plt.plot(history.history['val_loss'])\n",
    "plt.title('Model loss')\n",
    "plt.ylabel('Loss')\n",
    "plt.xlabel('Epoch')\n",
    "plt.legend(['Train', 'Validation'], loc='upper left')\n",
    "plt.show()"
   ]
  },
  {
   "cell_type": "code",
   "execution_count": 10,
   "metadata": {},
   "outputs": [
    {
     "name": "stdout",
     "output_type": "stream",
     "text": [
      "Predicted probability for each of the examples belonging to class 1: \n",
      "[[8.1187487e-04]\n",
      " [5.4513639e-01]\n",
      " [3.4908056e-03]\n",
      " [9.3181741e-01]\n",
      " [9.7332644e-01]\n",
      " [1.2651682e-03]\n",
      " [7.6924735e-01]\n",
      " [1.2798011e-03]\n",
      " [1.7901063e-03]\n",
      " [9.9841940e-01]]\n",
      "Predicted class label for each of the examples: \n",
      "[[0.]\n",
      " [1.]\n",
      " [0.]\n",
      " [1.]\n",
      " [1.]\n",
      " [0.]\n",
      " [1.]\n",
      " [0.]\n",
      " [0.]\n",
      " [1.]]\n"
     ]
    }
   ],
   "source": [
    "# Use your trained model to predict the output class for the first 10 input data examples\n",
    "y_predicted = model.predict(X.iloc[0:10,:]) \n",
    "\n",
    "# print the predicted classes\n",
    "print(\"Predicted probability for each of the examples belonging to class 1: \"),\n",
    "print(y_predicted)\n",
    "print(\"Predicted class label for each of the examples: \"), \n",
    "print(np.round(y_predicted))"
   ]
  },
  {
   "cell_type": "code",
   "execution_count": null,
   "metadata": {},
   "outputs": [],
   "source": []
  }
 ],
 "metadata": {
  "kernelspec": {
   "display_name": "Python 3",
   "language": "python",
   "name": "python3"
  },
  "language_info": {
   "codemirror_mode": {
    "name": "ipython",
    "version": 3
   },
   "file_extension": ".py",
   "mimetype": "text/x-python",
   "name": "python",
   "nbconvert_exporter": "python",
   "pygments_lexer": "ipython3",
   "version": "3.8.0"
  }
 },
 "nbformat": 4,
 "nbformat_minor": 2
}
