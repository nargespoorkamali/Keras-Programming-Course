{
 "cells": [
  {
   "cell_type": "code",
   "execution_count": 1,
   "metadata": {},
   "outputs": [],
   "source": [
    "# import required packages from Keras\n",
    "from keras.models import Sequential \n",
    "from keras.layers import Dense, Activation \n",
    "import numpy as np\n",
    "import pandas as pd\n",
    "from sklearn.model_selection import train_test_split\n",
    "from tensorflow import random"
   ]
  },
  {
   "cell_type": "code",
   "execution_count": 2,
   "metadata": {},
   "outputs": [
    {
     "name": "stdout",
     "output_type": "stream",
     "text": [
      "X size =  (3359, 2)\n",
      "Y size =  (3359, 1)\n",
      "Train set size =  (2351, 2)\n",
      "Test set size =  (1008, 2)\n"
     ]
    }
   ],
   "source": [
    "seed = 10\n",
    "np.random.seed(seed)\n",
    "random.set_seed(seed)\n",
    "X = pd.read_csv('../data/outlier_feats.csv')\n",
    "y = pd.read_csv('../data/outlier_target.csv')\n",
    "print(\"X size = \", X.shape)\n",
    "print(\"Y size = \", y.shape)\n",
    "\n",
    "X_train, X_test, y_train, y_test = train_test_split(X, y, test_size=0.3,\n",
    "random_state=None)\n",
    "print(\"Train set size = \", X_train.shape)\n",
    "print(\"Test set size = \", X_test.shape)"
   ]
  },
  {
   "cell_type": "code",
   "execution_count": 5,
   "metadata": {},
   "outputs": [
    {
     "name": "stdout",
     "output_type": "stream",
     "text": [
      "Epoch 1/100\n",
      "236/236 [==============================] - 0s 1ms/step - loss: 0.3820\n",
      "Epoch 2/100\n",
      "236/236 [==============================] - 0s 805us/step - loss: 0.2590\n",
      "Epoch 3/100\n",
      "236/236 [==============================] - 0s 745us/step - loss: 0.2375\n",
      "Epoch 4/100\n",
      "236/236 [==============================] - 0s 796us/step - loss: 0.2232\n",
      "Epoch 5/100\n",
      "236/236 [==============================] - 0s 838us/step - loss: 0.2114\n",
      "Epoch 6/100\n",
      "236/236 [==============================] - 0s 737us/step - loss: 0.2010\n",
      "Epoch 7/100\n",
      "236/236 [==============================] - 0s 788us/step - loss: 0.1916\n",
      "Epoch 8/100\n",
      "236/236 [==============================] - 0s 771us/step - loss: 0.1830\n",
      "Epoch 9/100\n",
      "236/236 [==============================] - 0s 775us/step - loss: 0.1749\n",
      "Epoch 10/100\n",
      "236/236 [==============================] - 0s 843us/step - loss: 0.1673\n",
      "Epoch 11/100\n",
      "236/236 [==============================] - 0s 716us/step - loss: 0.1601\n",
      "Epoch 12/100\n",
      "236/236 [==============================] - 0s 741us/step - loss: 0.1532\n",
      "Epoch 13/100\n",
      "236/236 [==============================] - 0s 809us/step - loss: 0.1465\n",
      "Epoch 14/100\n",
      "236/236 [==============================] - 0s 754us/step - loss: 0.1402\n",
      "Epoch 15/100\n",
      "236/236 [==============================] - 0s 762us/step - loss: 0.1341\n",
      "Epoch 16/100\n",
      "236/236 [==============================] - 0s 813us/step - loss: 0.1283\n",
      "Epoch 17/100\n",
      "236/236 [==============================] - 0s 788us/step - loss: 0.1228\n",
      "Epoch 18/100\n",
      "236/236 [==============================] - ETA: 0s - loss: 0.118 - 0s 758us/step - loss: 0.1175\n",
      "Epoch 19/100\n",
      "236/236 [==============================] - 0s 809us/step - loss: 0.1125\n",
      "Epoch 20/100\n",
      "236/236 [==============================] - 0s 733us/step - loss: 0.1077\n",
      "Epoch 21/100\n",
      "236/236 [==============================] - 0s 758us/step - loss: 0.1032\n",
      "Epoch 22/100\n",
      "236/236 [==============================] - 0s 822us/step - loss: 0.0989\n",
      "Epoch 23/100\n",
      "236/236 [==============================] - 0s 779us/step - loss: 0.0950\n",
      "Epoch 24/100\n",
      "236/236 [==============================] - 0s 796us/step - loss: 0.0912\n",
      "Epoch 25/100\n",
      "236/236 [==============================] - 0s 800us/step - loss: 0.0877\n",
      "Epoch 26/100\n",
      "236/236 [==============================] - 0s 813us/step - loss: 0.0844\n",
      "Epoch 27/100\n",
      "236/236 [==============================] - 0s 805us/step - loss: 0.0814\n",
      "Epoch 28/100\n",
      "236/236 [==============================] - 0s 800us/step - loss: 0.0785\n",
      "Epoch 29/100\n",
      "236/236 [==============================] - 0s 750us/step - loss: 0.0758\n",
      "Epoch 30/100\n",
      "236/236 [==============================] - 0s 809us/step - loss: 0.0733\n",
      "Epoch 31/100\n",
      "236/236 [==============================] - 0s 762us/step - loss: 0.0708\n",
      "Epoch 32/100\n",
      "236/236 [==============================] - 0s 771us/step - loss: 0.0688\n",
      "Epoch 33/100\n",
      "236/236 [==============================] - 0s 817us/step - loss: 0.0667\n",
      "Epoch 34/100\n",
      "236/236 [==============================] - 0s 783us/step - loss: 0.0648\n",
      "Epoch 35/100\n",
      "236/236 [==============================] - 0s 805us/step - loss: 0.0629\n",
      "Epoch 36/100\n",
      "236/236 [==============================] - 0s 817us/step - loss: 0.0611\n",
      "Epoch 37/100\n",
      "236/236 [==============================] - 0s 750us/step - loss: 0.0595\n",
      "Epoch 38/100\n",
      "236/236 [==============================] - 0s 779us/step - loss: 0.0579 0s - loss: 0.05\n",
      "Epoch 39/100\n",
      "236/236 [==============================] - 0s 800us/step - loss: 0.0564\n",
      "Epoch 40/100\n",
      "236/236 [==============================] - 0s 741us/step - loss: 0.0551\n",
      "Epoch 41/100\n",
      "236/236 [==============================] - 0s 792us/step - loss: 0.0538\n",
      "Epoch 42/100\n",
      "236/236 [==============================] - 0s 788us/step - loss: 0.0526\n",
      "Epoch 43/100\n",
      "236/236 [==============================] - 0s 733us/step - loss: 0.0514\n",
      "Epoch 44/100\n",
      "236/236 [==============================] - 0s 779us/step - loss: 0.0502\n",
      "Epoch 45/100\n",
      "236/236 [==============================] - 0s 754us/step - loss: 0.0491\n",
      "Epoch 46/100\n",
      "236/236 [==============================] - 0s 779us/step - loss: 0.0481\n",
      "Epoch 47/100\n",
      "236/236 [==============================] - 0s 805us/step - loss: 0.0471\n",
      "Epoch 48/100\n",
      "236/236 [==============================] - 0s 762us/step - loss: 0.0461\n",
      "Epoch 49/100\n",
      "236/236 [==============================] - 0s 779us/step - loss: 0.0452\n",
      "Epoch 50/100\n",
      "236/236 [==============================] - 0s 822us/step - loss: 0.0443\n",
      "Epoch 51/100\n",
      "236/236 [==============================] - 0s 728us/step - loss: 0.0435\n",
      "Epoch 52/100\n",
      "236/236 [==============================] - 0s 775us/step - loss: 0.0427\n",
      "Epoch 53/100\n",
      "236/236 [==============================] - 0s 809us/step - loss: 0.0419\n",
      "Epoch 54/100\n",
      "236/236 [==============================] - 0s 783us/step - loss: 0.0412\n",
      "Epoch 55/100\n",
      "236/236 [==============================] - 0s 788us/step - loss: 0.0405\n",
      "Epoch 56/100\n",
      "236/236 [==============================] - 0s 745us/step - loss: 0.0397\n",
      "Epoch 57/100\n",
      "236/236 [==============================] - 0s 762us/step - loss: 0.0391\n",
      "Epoch 58/100\n",
      "236/236 [==============================] - 0s 817us/step - loss: 0.0385\n",
      "Epoch 59/100\n",
      "236/236 [==============================] - 0s 716us/step - loss: 0.0378\n",
      "Epoch 60/100\n",
      "236/236 [==============================] - 0s 741us/step - loss: 0.0372\n",
      "Epoch 61/100\n",
      "236/236 [==============================] - 0s 792us/step - loss: 0.0367\n",
      "Epoch 62/100\n",
      "236/236 [==============================] - 0s 724us/step - loss: 0.0361\n",
      "Epoch 63/100\n",
      "236/236 [==============================] - 0s 775us/step - loss: 0.0355\n",
      "Epoch 64/100\n",
      "236/236 [==============================] - 0s 843us/step - loss: 0.0351\n",
      "Epoch 65/100\n",
      "236/236 [==============================] - 0s 720us/step - loss: 0.0346\n",
      "Epoch 66/100\n",
      "236/236 [==============================] - 0s 737us/step - loss: 0.0341\n",
      "Epoch 67/100\n",
      "236/236 [==============================] - 0s 817us/step - loss: 0.0336\n",
      "Epoch 68/100\n",
      "236/236 [==============================] - 0s 834us/step - loss: 0.0332\n",
      "Epoch 69/100\n",
      "236/236 [==============================] - 0s 826us/step - loss: 0.0327\n",
      "Epoch 70/100\n",
      "236/236 [==============================] - 0s 750us/step - loss: 0.0323\n",
      "Epoch 71/100\n",
      "236/236 [==============================] - 0s 902us/step - loss: 0.0319\n",
      "Epoch 72/100\n",
      "236/236 [==============================] - 0s 817us/step - loss: 0.0315\n",
      "Epoch 73/100\n",
      "236/236 [==============================] - 0s 775us/step - loss: 0.0311\n",
      "Epoch 74/100\n",
      "236/236 [==============================] - 0s 767us/step - loss: 0.0307\n",
      "Epoch 75/100\n",
      "236/236 [==============================] - 0s 813us/step - loss: 0.0303\n",
      "Epoch 76/100\n",
      "236/236 [==============================] - 0s 737us/step - loss: 0.0300\n",
      "Epoch 77/100\n",
      "236/236 [==============================] - 0s 745us/step - loss: 0.0296\n",
      "Epoch 78/100\n",
      "236/236 [==============================] - 0s 822us/step - loss: 0.0294\n",
      "Epoch 79/100\n",
      "236/236 [==============================] - 0s 779us/step - loss: 0.0290\n",
      "Epoch 80/100\n",
      "236/236 [==============================] - 0s 860us/step - loss: 0.0286\n",
      "Epoch 81/100\n",
      "236/236 [==============================] - 0s 720us/step - loss: 0.0283\n",
      "Epoch 82/100\n",
      "236/236 [==============================] - 0s 728us/step - loss: 0.0280\n",
      "Epoch 83/100\n",
      "236/236 [==============================] - 0s 779us/step - loss: 0.0277\n",
      "Epoch 84/100\n",
      "236/236 [==============================] - 0s 750us/step - loss: 0.0274\n",
      "Epoch 85/100\n",
      "236/236 [==============================] - 0s 767us/step - loss: 0.0272\n",
      "Epoch 86/100\n",
      "236/236 [==============================] - 0s 826us/step - loss: 0.0269\n",
      "Epoch 87/100\n",
      "236/236 [==============================] - 0s 792us/step - loss: 0.0266\n",
      "Epoch 88/100\n",
      "236/236 [==============================] - 0s 826us/step - loss: 0.0263\n",
      "Epoch 89/100\n",
      "236/236 [==============================] - 0s 796us/step - loss: 0.0261\n",
      "Epoch 90/100\n",
      "236/236 [==============================] - 0s 822us/step - loss: 0.0258\n",
      "Epoch 91/100\n",
      "236/236 [==============================] - 0s 809us/step - loss: 0.0256\n",
      "Epoch 92/100\n",
      "236/236 [==============================] - 0s 826us/step - loss: 0.0254\n",
      "Epoch 93/100\n",
      "236/236 [==============================] - 0s 762us/step - loss: 0.0251\n",
      "Epoch 94/100\n",
      "236/236 [==============================] - 0s 872us/step - loss: 0.0249\n",
      "Epoch 95/100\n",
      "236/236 [==============================] - 0s 758us/step - loss: 0.0247\n",
      "Epoch 96/100\n",
      "236/236 [==============================] - 0s 885us/step - loss: 0.0244\n",
      "Epoch 97/100\n"
     ]
    },
    {
     "name": "stdout",
     "output_type": "stream",
     "text": [
      "236/236 [==============================] - 0s 805us/step - loss: 0.0243\n",
      "Epoch 98/100\n",
      "236/236 [==============================] - 0s 728us/step - loss: 0.0240\n",
      "Epoch 99/100\n",
      "236/236 [==============================] - 0s 767us/step - loss: 0.0238\n",
      "Epoch 100/100\n",
      "236/236 [==============================] - 0s 915us/step - loss: 0.0236\n"
     ]
    },
    {
     "data": {
      "text/plain": [
       "<tensorflow.python.keras.callbacks.History at 0x1b8e94398e0>"
      ]
     },
     "execution_count": 5,
     "metadata": {},
     "output_type": "execute_result"
    }
   ],
   "source": [
    "model = Sequential()\n",
    "model.add(Dense(8, activation='tanh', input_dim=2))\n",
    "model.add(Dense(4, activation='tanh'))\n",
    "model.add(Dense(1, activation='sigmoid'))\n",
    "model.compile(optimizer='sgd', loss='binary_crossentropy')\n",
    "model.fit(X_train, y_train, epochs=100, batch_size=10)"
   ]
  },
  {
   "cell_type": "code",
   "execution_count": 7,
   "metadata": {},
   "outputs": [
    {
     "data": {
      "text/plain": [
       "0.023302916437387466"
      ]
     },
     "execution_count": 7,
     "metadata": {},
     "output_type": "execute_result"
    }
   ],
   "source": [
    "model.evaluate(X_train, y_train, batch_size=None, verbose=0)"
   ]
  },
  {
   "cell_type": "code",
   "execution_count": 8,
   "metadata": {},
   "outputs": [
    {
     "data": {
      "text/plain": [
       "0.030360059812664986"
      ]
     },
     "execution_count": 8,
     "metadata": {},
     "output_type": "execute_result"
    }
   ],
   "source": [
    "model.evaluate(X_test, y_test, batch_size=None, verbose=0)"
   ]
  },
  {
   "cell_type": "code",
   "execution_count": 9,
   "metadata": {},
   "outputs": [
    {
     "data": {
      "text/plain": [
       "0.030360059812664986"
      ]
     },
     "execution_count": 9,
     "metadata": {},
     "output_type": "execute_result"
    }
   ],
   "source": [
    "model.evaluate(X_train, y_train, batch_size=None, verbose=0)\n",
    "model.evaluate(X_test, y_test, batch_size=None, verbose=0)"
   ]
  },
  {
   "cell_type": "code",
   "execution_count": null,
   "metadata": {},
   "outputs": [],
   "source": []
  }
 ],
 "metadata": {
  "kernelspec": {
   "display_name": "Python 3",
   "language": "python",
   "name": "python3"
  },
  "language_info": {
   "codemirror_mode": {
    "name": "ipython",
    "version": 3
   },
   "file_extension": ".py",
   "mimetype": "text/x-python",
   "name": "python",
   "nbconvert_exporter": "python",
   "pygments_lexer": "ipython3",
   "version": "3.8.0"
  }
 },
 "nbformat": 4,
 "nbformat_minor": 4
}
